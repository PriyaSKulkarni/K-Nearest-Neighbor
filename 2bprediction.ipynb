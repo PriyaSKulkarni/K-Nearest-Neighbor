{
  "nbformat": 4,
  "nbformat_minor": 0,
  "metadata": {
    "colab": {
      "provenance": []
    },
    "kernelspec": {
      "name": "python3",
      "display_name": "Python 3"
    },
    "language_info": {
      "name": "python"
    }
  },
  "cells": [
    {
      "cell_type": "code",
      "execution_count": 1,
      "metadata": {
        "colab": {
          "base_uri": "https://localhost:8080/",
          "height": 0
        },
        "id": "QjWl6_9WM16n",
        "outputId": "14a12411-e3f9-48d7-8e3d-5052e0f032de"
      },
      "outputs": [
        {
          "output_type": "stream",
          "name": "stdout",
          "text": [
            "Mounted at /content/drive\n",
            "              height            diameter             weight               hue\n",
            "0   0.10085325871588    0.10347665370087   0.66000055127054   3.1061777201591\n",
            "1  0.097520805629366     0.1201052695695               0.75   1.4520706957674\n",
            "2  0.070973086761957   0.088622489628388   0.10604947426549   3.5044594187921\n",
            "3   0.11843514045485                0.15   0.33839714871863   5.6111022342157\n",
            "         height     diameter       weight          hue      class\n",
            "0   0.117820005  0.138365287  0.376838312  3.255943211   Plastic \n",
            "1   0.149398845  0.137884636  0.458635784  4.887697997   Plastic \n",
            "2   0.092846989   0.08946483  0.398115904  3.314872309     Metal \n",
            "3   0.063493171         0.03  0.110605349  4.290583456     Metal \n",
            "4   0.132147759         0.15  0.366192424  2.642717324   Plastic \n",
            "5   0.134386556         0.15         0.75  2.549392832   Ceramic \n",
            "6   0.077117679  0.030795497  0.132188862  1.061354957     Metal \n",
            "7   0.088096721  0.093578829  0.514391815  2.807311094   Ceramic \n",
            "8   0.088439453   0.13763057  0.709234615  2.234895655   Ceramic \n",
            "9   0.146148564  0.135840972  0.451317027  4.177574005   Plastic \n",
            "10   0.09265452  0.080861592  0.567104482  1.641808644   Ceramic \n",
            "11  0.080698615  0.034717811          0.1   1.79095088   Plastic \n"
          ]
        }
      ],
      "source": [
        "from google.colab import drive\n",
        "drive.mount('/content/drive')\n",
        "import pandas as pd\n",
        "import numpy as np\n",
        "import math\n",
        "import collections\n",
        "# I have used my google drive to load the training and testing data\n",
        "# Upload the dataset file in your google drive and change the path to run the below line\n",
        "data= pd.read_csv('/content/drive/MyDrive/ML/Priyadataset.csv',dtype='object')\n",
        "testdata=pd.read_csv('/content/drive/MyDrive/ML/PriyaTestdata.csv',dtype='object')\n",
        "print(testdata)\n",
        "print(data)"
      ]
    },
    {
      "cell_type": "code",
      "source": [
        "# the cartesian distance is been calculated in this function\n",
        "def cartesian_function(testdata, datas):\n",
        "    test1=testdata.astype('float64')\n",
        "    data1=datas.astype('float64')\n",
        "    diff1 = np.power(test1 - data1, 2)\n",
        "    difference = np.sum(diff1,axis=1)\n",
        "    final_diff = np.power(difference, 0.5)\n",
        "    #print(final_diff)\n",
        "    return final_diff"
      ],
      "metadata": {
        "id": "dEZYsaZvM66H"
      },
      "execution_count": 2,
      "outputs": []
    },
    {
      "cell_type": "code",
      "source": [
        "# The classification of the correct labels are been done in this function\n",
        "# if the knn classifer doesnt come with the majority decision for k=3 and 5, i have classified as ambiguous.\n",
        "# for examaple : for k =3 if knn classifier classify it as 1 plastic 1 metal 1 cermaic: \n",
        "# Since there isnt any majority decision to make, I have declared it as ambiguous\n",
        "def classify(k, label):\n",
        "    #print(k)\n",
        "    output = label[:k]\n",
        "    ceramic = np.count_nonzero(output == ' Ceramic ')\n",
        "    metal = np.count_nonzero(output == ' Metal ')\n",
        "    plastic = np.count_nonzero(output == ' Plastic ')\n",
        "    #print(metal)\n",
        "    #print(plastic)\n",
        "    #print(ceramic)\n",
        "    if metal > plastic and metal > ceramic:\n",
        "        return ' Metal '\n",
        "    elif plastic > metal and plastic > ceramic:\n",
        "        return ' Plastic '\n",
        "    elif ceramic > metal and ceramic > plastic:\n",
        "        return ' Ceramic '\n",
        "    else:\n",
        "      return ' ambiguous'"
      ],
      "metadata": {
        "id": "X1sV6XOsNFmu"
      },
      "execution_count": 3,
      "outputs": []
    },
    {
      "cell_type": "code",
      "source": [
        "# this function defines the knn classification by finding the distance and sorting it. \n",
        "# this functions calls classify function to classify labels\n",
        "def knn(test_sample, k, data):\n",
        "    data1 = data.drop(['class'], axis = 1)\n",
        "    dataset = data1.values\n",
        "    labelset = data['class'].values\n",
        "    distance = cartesian_function(test_sample, dataset)\n",
        "    #print(distance)\n",
        "    final_distance = np.vstack((distance, labelset))\n",
        "    final = final_distance.T[:, 0].argsort()\n",
        "    final_sorted_distance = final_distance.T[final]\n",
        "    #print(final_sorted_distance)\n",
        "    final_sorted_labels = final_sorted_distance.T[1]\n",
        "    #print(final_sorted_labels)\n",
        "    return classify(k,final_sorted_labels)"
      ],
      "metadata": {
        "id": "kRZC7V7rNJEF"
      },
      "execution_count": 4,
      "outputs": []
    },
    {
      "cell_type": "code",
      "source": [
        "kvalues = 1, 3, 5\n",
        "# taking test data as csv input \n",
        "def main1():\n",
        "    for k in kvalues:\n",
        "        for i, test in testdata.iterrows():\n",
        "            tsample = test.values[:4]\n",
        "            predict = knn(tsample, k, data)\n",
        "            print(f\"KNN for k value:{k}\")\n",
        "            print(f\"the KNN prediction for testdata {i} :\",predict)\n",
        "        print()"
      ],
      "metadata": {
        "id": "oPpa5E1LNQPY"
      },
      "execution_count": 5,
      "outputs": []
    },
    {
      "cell_type": "code",
      "source": [
        "kvalues = 1,3,5\n",
        "# test value is inputed by the user\n",
        "def main2():\n",
        "    test=np.array(input(\"Enter\").split(','),dtype=np.float64)\n",
        "    for k in kvalues:\n",
        "        predict = knn(test, k, data)\n",
        "        print(f\"KNN for k value:{k}\")\n",
        "        print(f\"the KNN prediction for testdata : \",predict)\n",
        "        print()"
      ],
      "metadata": {
        "id": "6f6aoq_ZRkn1"
      },
      "execution_count": 6,
      "outputs": []
    },
    {
      "cell_type": "code",
      "source": [
        "# enter input in the form of --> 0.097520805629366, 0.1201052695695, 0.75, 1.4520706957674\n",
        "# comma separated input\n",
        "main2()"
      ],
      "metadata": {
        "colab": {
          "base_uri": "https://localhost:8080/",
          "height": 0
        },
        "id": "IxFqWwEWSFp5",
        "outputId": "4c5fac1e-51e3-4177-df29-25d2b4aa7143"
      },
      "execution_count": 7,
      "outputs": [
        {
          "output_type": "stream",
          "name": "stdout",
          "text": [
            "Enter0.097520805629366, 0.1201052695695, 0.75, 1.4520706957674\n",
            "KNN for k value:1\n",
            "the KNN prediction for testdata :   Ceramic \n",
            "\n",
            "KNN for k value:3\n",
            "the KNN prediction for testdata :   ambiguous\n",
            "\n",
            "KNN for k value:5\n",
            "the KNN prediction for testdata :   Ceramic \n",
            "\n"
          ]
        }
      ]
    },
    {
      "cell_type": "code",
      "source": [
        "# takes test data as csv input file\n",
        "main1()"
      ],
      "metadata": {
        "colab": {
          "base_uri": "https://localhost:8080/",
          "height": 0
        },
        "id": "JQxLhFDZORwp",
        "outputId": "61e187d4-eb86-4e98-c5f6-529a4f8b00be"
      },
      "execution_count": 8,
      "outputs": [
        {
          "output_type": "stream",
          "name": "stdout",
          "text": [
            "KNN for k value:1\n",
            "the KNN prediction for testdata 0 :  Plastic \n",
            "KNN for k value:1\n",
            "the KNN prediction for testdata 1 :  Ceramic \n",
            "KNN for k value:1\n",
            "the KNN prediction for testdata 2 :  Metal \n",
            "KNN for k value:1\n",
            "the KNN prediction for testdata 3 :  Plastic \n",
            "\n",
            "KNN for k value:3\n",
            "the KNN prediction for testdata 0 :  ambiguous\n",
            "KNN for k value:3\n",
            "the KNN prediction for testdata 1 :  ambiguous\n",
            "KNN for k value:3\n",
            "the KNN prediction for testdata 2 :  Plastic \n",
            "KNN for k value:3\n",
            "the KNN prediction for testdata 3 :  Plastic \n",
            "\n",
            "KNN for k value:5\n",
            "the KNN prediction for testdata 0 :  ambiguous\n",
            "KNN for k value:5\n",
            "the KNN prediction for testdata 1 :  Ceramic \n",
            "KNN for k value:5\n",
            "the KNN prediction for testdata 2 :  ambiguous\n",
            "KNN for k value:5\n",
            "the KNN prediction for testdata 3 :  Plastic \n",
            "\n"
          ]
        }
      ]
    }
  ]
}